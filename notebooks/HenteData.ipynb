{
 "cells": [
  {
   "cell_type": "markdown",
   "metadata": {},
   "source": [
    "## Hente rådata fra Frost-API-et vi har brukt.\n",
    "\n",
    "Her i denne koden har vi hentet værdata fra Meteorologisk Institutt. Vi har valgt å hente data herfra fordi vi vet at Meteorologisk Institutt er et annerkjent norsk statlig forvaltningsorgan, med ansvar for den offentlige meteorologiske tjenesten i Norge. I og med at det er driftet av staten har det en viss integeritet og pålitelighet. \n",
    "\n",
    "Vi har fått en \"client-id\" som gir oss tilgang til å hente rådata fra Frost-API-et til Meteorologisk Institutt. I koden under henter vi da rådata mellom \"start_dato\" og \"slutt_dato\" og lagrer det i csv-filen \"VaerData.csv\" for visualisering. "
   ]
  },
  {
   "cell_type": "code",
   "execution_count": 1,
   "metadata": {},
   "outputs": [
    {
     "name": "stdout",
     "output_type": "stream",
     "text": [
      "Parametere: {'sources': 'SN68230,SN18700,SN50540', 'elements': 'mean(air_temperature P1D),sum(precipitation_amount P1D),mean(wind_speed P1D)', 'referencetime': '2022-01-01/2023-01-01', 'timeoffsets': 'default', 'timeresolutions': 'P1D', 'levels': 'default'}\n",
      "Data lagret i ../data/VaerData.csv\n",
      "Dataene er hentet fra Meterologisk Institutt.\n"
     ]
    }
   ],
   "source": [
    "import requests\n",
    "from dotenv import load_dotenv\n",
    "import os\n",
    "import pandas as pd\n",
    "import json\n",
    "\n",
    "# Load environment variables from .env file\n",
    "load_dotenv()\n",
    "\n",
    "# Henter API-key/Client-id fra .env filen\n",
    "client_id = os.getenv(\"client_id\")\n",
    "\n",
    "with open('../data/Byer.json', 'r') as f:\n",
    "    byer = json.load(f)\n",
    "\n",
    "byerAsString = ','.join(byer.values())\n",
    "\n",
    "element_id = \"mean(air_temperature P1D),sum(precipitation_amount P1D),mean(wind_speed P1D)\"  # Temperatur, nedbør og vindhastighet\n",
    "start_dato = \"2022-01-01\"  # Startdato\n",
    "slutt_dato = \"2023-01-01\"  # Sluttdato\n",
    "\n",
    "# Define endpoint and parameters\n",
    "endpoint = 'https://frost.met.no/observations/v0.jsonld'\n",
    "parameters = {\n",
    "    \"sources\": byerAsString,\n",
    "    \"elements\": element_id,\n",
    "    \"referencetime\": f\"{start_dato}/{slutt_dato}\",\n",
    "    \"timeoffsets\": \"default\",\n",
    "    \"timeresolutions\": \"P1D\",\n",
    "    \"levels\": \"default\"\n",
    "}\n",
    "print(f\"Parametere: {parameters}\")\n",
    "\n",
    "# Sender forespørsel til Frost API\n",
    "response = requests.get(endpoint, params=parameters, auth=(client_id, ''))\n",
    "\n",
    "# Sjekker om forespørselen var vellykket\n",
    "if response.status_code != 200:\n",
    "    print(f\"Error! Status code: {response.status_code}\")\n",
    "    print(f\"Message: {response.json().get('error', {}).get('message', 'Ingen melding gitt')}\")\n",
    "    print(f\"Reason: {response.json().get('error', {}).get('reason', 'Ingen årsak gitt')}\")\n",
    "    exit()\n",
    "\n",
    "# Henter JSON-data\n",
    "json_data = response.json()\n",
    "if 'data' not in json_data:\n",
    "    print(\"Ingen data funnet i forespørselen.\")\n",
    "    print(json_data)\n",
    "    exit()\n",
    "\n",
    "# Prosesserer data til en DataFrame\n",
    "data = json_data['data']\n",
    "rows = []  # Liste for å samle alle rader\n",
    "for item in data:\n",
    "    for observation in item['observations']:\n",
    "        row = {\n",
    "            'sourceId': item['sourceId'].split(':')[0],  # Fjern ':0' fra sourceId\n",
    "            'referenceTime': item['referenceTime'],\n",
    "            'elementId': observation['elementId'],\n",
    "            'value': observation['value'],\n",
    "            'unit': observation['unit'],\n",
    "            'codequality': observation.get('qualityCode', '')  \n",
    "        }\n",
    "        rows.append(row)\n",
    "\n",
    "# Opprett DataFrame fra rader\n",
    "df = pd.DataFrame(rows)\n",
    "\n",
    "# Legger til en ny kolonne for bynavn basert på sourceId\n",
    "df['by'] = df['sourceId'].map({v: k for k, v in byer.items()})\n",
    "\n",
    "# Forenkler tidsformatet (YYYY-MM-DD)\n",
    "df['referenceTime'] = pd.to_datetime(df['referenceTime']).dt.date\n",
    "\n",
    "# Splitter \"elementId\" i flere kolonner\n",
    "df[['statistikk', 'variable']] = df['elementId'].str.extract(r'(\\w+)\\(([^)]+)')\n",
    "\n",
    "# Velger ønskede kolonner\n",
    "df = df[['by', 'sourceId', 'referenceTime', 'statistikk', 'variable', 'value', 'unit', 'codequality']]\n",
    "\n",
    "# Skriver DataFrame til en CSV-fil\n",
    "data_fil = '../data/VaerData.csv'\n",
    "df.to_csv(data_fil, index=False)\n",
    "print(f\"Data lagret i {data_fil}\")\n",
    "print(\"Dataene er hentet fra Meterologisk Institutt.\")"
   ]
  }
 ],
 "metadata": {
  "kernelspec": {
   "display_name": "venv2",
   "language": "python",
   "name": "python3"
  },
  "language_info": {
   "codemirror_mode": {
    "name": "ipython",
    "version": 3
   },
   "file_extension": ".py",
   "mimetype": "text/x-python",
   "name": "python",
   "nbconvert_exporter": "python",
   "pygments_lexer": "ipython3",
   "version": "3.13.1"
  }
 },
 "nbformat": 4,
 "nbformat_minor": 2
}
