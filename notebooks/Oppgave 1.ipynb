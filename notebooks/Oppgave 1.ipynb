{
 "cells": [
  {
   "cell_type": "code",
   "execution_count": 1,
   "metadata": {},
   "outputs": [
    {
     "name": "stdout",
     "output_type": "stream",
     "text": [
      "Utviklingsmiljøet er klart\n"
     ]
    }
   ],
   "source": [
    "print(\"Utviklingsmiljøet er klart\")"
   ]
  },
  {
   "cell_type": "markdown",
   "metadata": {},
   "source": [
    "## Vurderingskriterier for Oppgave 1\n",
    "\n",
    "- Vi opprettet et repo på Github som vi kalte \"Miljodataanalyse-applikasjon\"\n",
    "- Vi begge lastet ned siste versjoner av Python og VSCode. \n",
    "- Vi klonet proj_enviroment repoet til vår github.\n",
    "- Og kjørte enkelt koden over. "
   ]
  }
 ],
 "metadata": {
  "kernelspec": {
   "display_name": "Python 3",
   "language": "python",
   "name": "python3"
  },
  "language_info": {
   "codemirror_mode": {
    "name": "ipython",
    "version": 3
   },
   "file_extension": ".py",
   "mimetype": "text/x-python",
   "name": "python",
   "nbconvert_exporter": "python",
   "pygments_lexer": "ipython3",
   "version": "3.13.2"
  }
 },
 "nbformat": 4,
 "nbformat_minor": 2
}
