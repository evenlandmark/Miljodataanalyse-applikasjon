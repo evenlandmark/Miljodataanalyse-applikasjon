{
 "cells": [
  {
   "cell_type": "code",
   "execution_count": null,
   "metadata": {},
   "outputs": [
    {
     "name": "stdout",
     "output_type": "stream",
     "text": [
      "Temperatur: 5.78 °C\n",
      "Vind: 4.47\n",
      "Trykk:  1018\n",
      "Fuktighet:  83\n",
      "Beskrivelse: light rain\n",
      "Temperatur: 5.78 °C\n",
      "Vind: 4.47\n",
      "Trykk:  1018\n",
      "Fuktighet:  83\n",
      "Beskrivelse: light rain\n"
     ]
    }
   ],
   "source": [
    "import requests\n",
    "import os\n",
    "from dotenv import load_dotenv\n",
    "\n",
    "# Henter miljøvariabler fra .env-filen\n",
    "load_dotenv()\n",
    "\n",
    "# Henter API-key\n",
    "api_key = os.getenv('API_KEY')\n",
    "\n",
    "By = 'Oslo'\n",
    "By2 = 'Trondheim'\n",
    "\n",
    "api_key = os.getenv('API_KEY')\n",
    "\n",
    "url = f'http://api.openweathermap.org/data/2.5/weather?q={By}&appid={api_key}&units=metric'\n",
    "\n",
    "\n",
    "\n",
    "res = requests.get(url)\n",
    "data = res.json()\n",
    "\n",
    "humidity = data['main']['humidity']\n",
    "pressure = data['main']['pressure']\n",
    "wind = data['wind']['speed']\n",
    "description = data['weather'][0]['description']\n",
    "temp = data['main']['temp']\n",
    "\n",
    "print('Temperatur:',temp,'°C')\n",
    "print('Vind:',wind)\n",
    "print('Trykk: ',pressure)\n",
    "print('Fuktighet: ',humidity)\n",
    "print('Beskrivelse:',description)"
   ]
  },
  {
   "cell_type": "code",
   "execution_count": null,
   "metadata": {},
   "outputs": [],
   "source": []
  }
 ],
 "metadata": {
  "kernelspec": {
   "display_name": "Python 3",
   "language": "python",
   "name": "python3"
  },
  "language_info": {
   "codemirror_mode": {
    "name": "ipython",
    "version": 3
   },
   "file_extension": ".py",
   "mimetype": "text/x-python",
   "name": "python",
   "nbconvert_exporter": "python",
   "pygments_lexer": "ipython3",
   "version": "3.13.2"
  }
 },
 "nbformat": 4,
 "nbformat_minor": 2
}
